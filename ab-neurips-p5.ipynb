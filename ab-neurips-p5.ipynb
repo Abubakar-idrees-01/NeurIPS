{
 "cells": [
  {
   "cell_type": "code",
   "execution_count": 1,
   "id": "9ecb5571",
   "metadata": {
    "execution": {
     "iopub.execute_input": "2025-07-09T18:30:58.447851Z",
     "iopub.status.busy": "2025-07-09T18:30:58.447481Z",
     "iopub.status.idle": "2025-07-09T18:39:28.648798Z",
     "shell.execute_reply": "2025-07-09T18:39:28.647790Z"
    },
    "papermill": {
     "duration": 510.208041,
     "end_time": "2025-07-09T18:39:28.651469",
     "exception": false,
     "start_time": "2025-07-09T18:30:58.443428",
     "status": "completed"
    },
    "tags": []
   },
   "outputs": [
    {
     "name": "stdout",
     "output_type": "stream",
     "text": [
      "🔬 Featurizing training data...\n",
      "🔬 Featurizing test data...\n",
      "🚀 Training models:\n"
     ]
    },
    {
     "name": "stderr",
     "output_type": "stream",
     "text": [
      "100%|██████████| 5/5 [02:00<00:00, 24.10s/it]\n"
     ]
    },
    {
     "name": "stdout",
     "output_type": "stream",
     "text": [
      "\n",
      "✅ Validation MAE per target:\n",
      "  • Tg: 53.8798\n",
      "  • FFV: 0.0052\n",
      "  • Tc: 0.0259\n",
      "  • Density: 0.0371\n",
      "  • Rg: 1.9206\n",
      "\n",
      "🚀 Retraining on full data and predicting test set:\n"
     ]
    },
    {
     "name": "stderr",
     "output_type": "stream",
     "text": [
      "100%|██████████| 5/5 [02:35<00:00, 31.12s/it]"
     ]
    },
    {
     "name": "stdout",
     "output_type": "stream",
     "text": [
      "✅ submission.csv created\n"
     ]
    },
    {
     "name": "stderr",
     "output_type": "stream",
     "text": [
      "\n"
     ]
    }
   ],
   "source": [
    "# === STEP 1: Install RDKit (Kaggle offline) ===\n",
    "import os\n",
    "os.system('pip install --no-index /kaggle/input/rdkit-2025-3-3-cp311/rdkit-2025.3.3-cp311-cp311-manylinux_2_28_x86_64.whl > /dev/null 2>&1')\n",
    "\n",
    "# === STEP 2: Imports & Configuration ===\n",
    "import warnings\n",
    "warnings.filterwarnings(\"ignore\")\n",
    "\n",
    "import pandas as pd\n",
    "import numpy as np\n",
    "from rdkit import Chem, RDLogger\n",
    "from rdkit.Chem import AllChem, Descriptors\n",
    "from sklearn.impute import SimpleImputer\n",
    "from sklearn.model_selection import train_test_split\n",
    "from sklearn.ensemble import RandomForestRegressor\n",
    "from lightgbm import LGBMRegressor, early_stopping\n",
    "from sklearn.metrics import mean_absolute_error\n",
    "from tqdm import tqdm\n",
    "\n",
    "RDLogger.DisableLog('rdApp.*')\n",
    "\n",
    "TRAIN_PATH = \"/kaggle/input/neurips-open-polymer-prediction-2025/train.csv\"\n",
    "TEST_PATH  = \"/kaggle/input/neurips-open-polymer-prediction-2025/test.csv\"\n",
    "SUB_PATH   = \"/kaggle/input/neurips-open-polymer-prediction-2025/sample_submission.csv\"\n",
    "TARGETS    = ['Tg', 'FFV', 'Tc', 'Density', 'Rg']\n",
    "RANDOM_SEED = 42\n",
    "\n",
    "# === STEP 3: Load Data ===\n",
    "train_df = pd.read_csv(TRAIN_PATH)\n",
    "test_df  = pd.read_csv(TEST_PATH)\n",
    "sub_df   = pd.read_csv(SUB_PATH)\n",
    "\n",
    "# === STEP 4: Featurization Helpers ===\n",
    "def featurize_morgan(smiles_series, radius=2, n_bits=2048):\n",
    "    fps = []\n",
    "    for smi in smiles_series:\n",
    "        try:\n",
    "            mol = Chem.MolFromSmiles(smi)\n",
    "            if mol is None:\n",
    "                fps.append([0]*n_bits)\n",
    "            else:\n",
    "                vec = AllChem.GetMorganFingerprintAsBitVect(mol, radius, n_bits)\n",
    "                fps.append(list(vec))\n",
    "        except:\n",
    "            fps.append([0]*n_bits)\n",
    "    return pd.DataFrame(fps, columns=[f'FP_{i}' for i in range(n_bits)])\n",
    "\n",
    "desc_funcs = [d[1] for d in Descriptors._descList]\n",
    "desc_names = [d[0] for d in Descriptors._descList]\n",
    "\n",
    "def featurize_descriptors(smiles_series):\n",
    "    feats = []\n",
    "    for smi in smiles_series:\n",
    "        try:\n",
    "            mol = Chem.MolFromSmiles(smi)\n",
    "            if mol is None:\n",
    "                feats.append([np.nan]*len(desc_funcs))\n",
    "            else:\n",
    "                feats.append([fn(mol) for fn in desc_funcs])\n",
    "        except:\n",
    "            feats.append([np.nan]*len(desc_funcs))\n",
    "    return pd.DataFrame(feats, columns=desc_names)\n",
    "\n",
    "# === STEP 5: Generate Features ===\n",
    "print(\"🔬 Featurizing training data...\")\n",
    "X_train_fp   = featurize_morgan(train_df['SMILES'])\n",
    "X_train_desc = featurize_descriptors(train_df['SMILES'])\n",
    "X_train      = pd.concat([X_train_fp, X_train_desc], axis=1)\n",
    "\n",
    "print(\"🔬 Featurizing test data...\")\n",
    "X_test_fp    = featurize_morgan(test_df['SMILES'])\n",
    "X_test_desc  = featurize_descriptors(test_df['SMILES'])\n",
    "X_test       = pd.concat([X_test_fp, X_test_desc], axis=1)\n",
    "\n",
    "y_train = train_df[TARGETS].copy()\n",
    "test_ids = test_df['id'].copy()\n",
    "\n",
    "# === STEP 6: Clean infinities & drop all-NaN columns ===\n",
    "for df in (X_train, X_test):\n",
    "    df.replace([np.inf, -np.inf], np.nan, inplace=True)\n",
    "\n",
    "all_nan = X_train.columns[X_train.isna().all()]\n",
    "if len(all_nan):\n",
    "    X_train.drop(columns=all_nan, inplace=True)\n",
    "    X_test.drop(columns=all_nan, inplace=True, errors='ignore')\n",
    "\n",
    "# === STEP 7: Impute missing features ===\n",
    "imp = SimpleImputer(strategy='mean')\n",
    "X_train = pd.DataFrame(imp.fit_transform(X_train), columns=X_train.columns)\n",
    "X_test  = pd.DataFrame(imp.transform(X_test),      columns=X_train.columns)\n",
    "\n",
    "# Final clean function before modeling\n",
    "def clean_df(df):\n",
    "    df = df.replace([np.inf, -np.inf], np.nan).fillna(0)\n",
    "    df = df.clip(lower=-1e10, upper=1e10)\n",
    "    return df.astype(np.float32)\n",
    "\n",
    "X_train = clean_df(X_train)\n",
    "X_test  = clean_df(X_test)\n",
    "\n",
    "# === STEP 8: Prepare train/validation split ===\n",
    "mask = y_train.notna().any(axis=1)\n",
    "X_all = X_train.loc[mask].reset_index(drop=True)\n",
    "y_all = y_train.loc[mask].reset_index(drop=True)\n",
    "\n",
    "X_tr, X_val, y_tr, y_val = train_test_split(\n",
    "    X_all, y_all, test_size=0.1, random_state=RANDOM_SEED\n",
    ")\n",
    "\n",
    "# === STEP 9: Train models per target with progress bar ===\n",
    "val_scores = {}\n",
    "models = {}\n",
    "\n",
    "print(\"🚀 Training models:\")\n",
    "for target in tqdm(TARGETS):\n",
    "    idx_tr = y_tr[target].notna()\n",
    "    idx_val = y_val[target].notna()\n",
    "    if idx_tr.sum() == 0 or idx_val.sum() == 0:\n",
    "        val_scores[target] = None\n",
    "        continue\n",
    "\n",
    "    X_tr_t = clean_df(X_tr.loc[idx_tr])\n",
    "    y_tr_t = y_tr.loc[idx_tr, target].values\n",
    "    X_val_t = clean_df(X_val.loc[idx_val])\n",
    "    y_val_t = y_val.loc[idx_val, target].values\n",
    "\n",
    "    # LightGBM\n",
    "    lgb = LGBMRegressor(\n",
    "        n_estimators=1000,\n",
    "        learning_rate=0.05,\n",
    "        num_leaves=64,\n",
    "        random_state=RANDOM_SEED,\n",
    "        n_jobs=-1,\n",
    "        verbose=-1\n",
    "    )\n",
    "    lgb.fit(\n",
    "        X_tr_t, y_tr_t,\n",
    "        eval_set=[(X_val_t, y_val_t)],\n",
    "        eval_metric='mae',\n",
    "        callbacks=[early_stopping(stopping_rounds=50, verbose=False)]\n",
    "    )\n",
    "\n",
    "    # Random Forest\n",
    "    rf = RandomForestRegressor(n_estimators=200, random_state=RANDOM_SEED, n_jobs=-1)\n",
    "    rf.fit(X_tr_t, y_tr_t)\n",
    "\n",
    "    # Ensemble validation\n",
    "    pred_val = 0.5 * lgb.predict(X_val_t) + 0.5 * rf.predict(X_val_t)\n",
    "    val_scores[target] = mean_absolute_error(y_val_t, pred_val)\n",
    "    models[target] = {'lgb': lgb, 'rf': rf}\n",
    "\n",
    "print(\"\\n✅ Validation MAE per target:\")\n",
    "for t, s in val_scores.items():\n",
    "    print(f\"  • {t}: {s:.4f}\" if s is not None else f\"  • {t}: no data\")\n",
    "\n",
    "# === STEP 10: Retrain on full data & predict test set ===\n",
    "print(\"\\n🚀 Retraining on full data and predicting test set:\")\n",
    "test_preds = pd.DataFrame(index=test_ids, columns=TARGETS)\n",
    "\n",
    "for target in tqdm(TARGETS):\n",
    "    idx_full = y_train[target].notna()\n",
    "    if idx_full.sum() == 0:\n",
    "        test_preds[target] = 0.0\n",
    "        continue\n",
    "\n",
    "    X_full = clean_df(X_train.loc[idx_full])\n",
    "    y_full = y_train.loc[idx_full, target].values\n",
    "\n",
    "    lgb = models[target]['lgb']\n",
    "    rf  = models[target]['rf']\n",
    "\n",
    "    lgb.fit(X_full, y_full)\n",
    "    rf.fit(X_full, y_full)\n",
    "\n",
    "    preds = 0.5 * lgb.predict(X_test) + 0.5 * rf.predict(X_test)\n",
    "    test_preds[target] = preds\n",
    "\n",
    "# === STEP 11: Create submission ===\n",
    "submission = pd.DataFrame({'id': test_ids})\n",
    "for t in TARGETS:\n",
    "    submission[t] = test_preds[t].values\n",
    "\n",
    "submission.to_csv('submission.csv', index=False)\n",
    "print(\"✅ submission.csv created\")\n"
   ]
  },
  {
   "cell_type": "code",
   "execution_count": null,
   "id": "5a25568f",
   "metadata": {
    "papermill": {
     "duration": 0.005103,
     "end_time": "2025-07-09T18:39:28.662570",
     "exception": false,
     "start_time": "2025-07-09T18:39:28.657467",
     "status": "completed"
    },
    "tags": []
   },
   "outputs": [],
   "source": []
  }
 ],
 "metadata": {
  "kaggle": {
   "accelerator": "none",
   "dataSources": [
    {
     "databundleVersionId": 12966160,
     "isSourceIdPinned": false,
     "sourceId": 74608,
     "sourceType": "competition"
    },
    {
     "datasetId": 7678100,
     "sourceId": 12189904,
     "sourceType": "datasetVersion"
    },
    {
     "datasetId": 7690162,
     "sourceId": 12207625,
     "sourceType": "datasetVersion"
    },
    {
     "datasetId": 7709869,
     "sourceId": 12330396,
     "sourceType": "datasetVersion"
    }
   ],
   "dockerImageVersionId": 31089,
   "isGpuEnabled": false,
   "isInternetEnabled": false,
   "language": "python",
   "sourceType": "notebook"
  },
  "kernelspec": {
   "display_name": "Python 3",
   "language": "python",
   "name": "python3"
  },
  "language_info": {
   "codemirror_mode": {
    "name": "ipython",
    "version": 3
   },
   "file_extension": ".py",
   "mimetype": "text/x-python",
   "name": "python",
   "nbconvert_exporter": "python",
   "pygments_lexer": "ipython3",
   "version": "3.11.13"
  },
  "papermill": {
   "default_parameters": {},
   "duration": 517.093721,
   "end_time": "2025-07-09T18:39:29.692392",
   "environment_variables": {},
   "exception": null,
   "input_path": "__notebook__.ipynb",
   "output_path": "__notebook__.ipynb",
   "parameters": {},
   "start_time": "2025-07-09T18:30:52.598671",
   "version": "2.6.0"
  }
 },
 "nbformat": 4,
 "nbformat_minor": 5
}
